{
  "cells": [
    {
      "cell_type": "markdown",
      "metadata": {
        "id": "KTFmQAB3oRB4"
      },
      "source": [
        "## Simple Image Retrieval network in Pytorch"
      ]
    },
    {
      "cell_type": "code",
      "execution_count": 1,
      "metadata": {
        "id": "2_SnQHL2oRB6"
      },
      "outputs": [],
      "source": [
        "# Import libraries \n",
        "import numpy as np\n",
        "import os\n",
        "import warnings\n",
        "warnings.filterwarnings('ignore')\n",
        "%matplotlib inline"
      ]
    },
    {
      "cell_type": "code",
      "execution_count": 2,
      "metadata": {
        "id": "7wlx8IIGpDLP"
      },
      "outputs": [],
      "source": [
        "import os\n",
        "import shutil\n",
        "import os.path\n",
        "from os import path"
      ]
    },
    {
      "cell_type": "code",
      "execution_count": 3,
      "metadata": {
        "id": "fbDvyqmeo7J4"
      },
      "outputs": [],
      "source": [
        "if path.exists(\"./train\") == False:\n",
        "  os.mkdir(\"./train\")\n",
        "  \n",
        "if path.exists(\"./test\") == False:\n",
        "  os.mkdir(\"./test\")"
      ]
    },
    {
      "cell_type": "code",
      "execution_count": 4,
      "metadata": {
        "id": "fW-YuF9Vorc0"
      },
      "outputs": [],
      "source": [
        "corel_base = \"./datasetforML\"\n",
        "corel_train = \"./train\"\n",
        "corel_test = \"./test\""
      ]
    },
    {
      "cell_type": "code",
      "execution_count": 5,
      "metadata": {
        "id": "3RJNOupSoiqN"
      },
      "outputs": [],
      "source": [
        "data = os.listdir(corel_base)\n",
        "\n",
        "#membagi data menjadi 70% train\n",
        "for file in data[0:int(len(data)* .9)]:\n",
        "    new_path = shutil.move(f\"{corel_base}/{file}\", corel_train)"
      ]
    },
    {
      "cell_type": "code",
      "execution_count": 6,
      "metadata": {
        "id": "Ucgm0RINojQn"
      },
      "outputs": [],
      "source": [
        "data2 = os.listdir(corel_base)\n",
        "\n",
        "#membagi data menjadi 30% test\n",
        "for file in data2:\n",
        "    new_path = shutil.move(f\"{corel_base}/{file}\", corel_test)"
      ]
    }
  ],
  "metadata": {
    "colab": {
      "name": "Image_retrieval.ipynb",
      "provenance": []
    },
    "kernelspec": {
      "display_name": "Python 3",
      "language": "python",
      "name": "python3"
    },
    "language_info": {
      "codemirror_mode": {
        "name": "ipython",
        "version": 3
      },
      "file_extension": ".py",
      "mimetype": "text/x-python",
      "name": "python",
      "nbconvert_exporter": "python",
      "pygments_lexer": "ipython3",
      "version": "3.6.13"
    }
  },
  "nbformat": 4,
  "nbformat_minor": 0
}
